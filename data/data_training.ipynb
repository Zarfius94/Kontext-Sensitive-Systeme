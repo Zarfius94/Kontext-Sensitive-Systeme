{
 "cells": [
  {
   "cell_type": "markdown",
   "metadata": {},
   "source": [
    "# Training"
   ]
  },
  {
   "cell_type": "markdown",
   "metadata": {},
   "source": [
    "## Imports"
   ]
  },
  {
   "cell_type": "code",
   "execution_count": 40,
   "metadata": {},
   "outputs": [],
   "source": [
    "import numpy as np\n",
    "import pandas as pd\n",
    "\n",
    "from sklearn.preprocessing import StandardScaler, MinMaxScaler\n",
    "from sklearn.neighbors import KNeighborsClassifier\n",
    "from sklearn.svm import SVC\n",
    "from sklearn.tree import DecisionTreeClassifier\n",
    "from sklearn.ensemble import RandomForestClassifier, BaggingClassifier\n",
    "from sklearn.naive_bayes import GaussianNB\n",
    "from sklearn.model_selection import LeaveOneGroupOut, KFold, train_test_split\n",
    "from sklearn import metrics\n",
    "from sklearn.feature_selection import RFE\n",
    "# Works only with python 3.7.9. and sklearn on v 0.22.0 !!!!!\n",
    "from sklearn_porter import Porter\n",
    "\n",
    "from tqdm import tqdm\n",
    "\n",
    "import data_helper"
   ]
  },
  {
   "cell_type": "markdown",
   "metadata": {},
   "source": [
    "## Data"
   ]
  },
  {
   "cell_type": "code",
   "execution_count": 41,
   "metadata": {},
   "outputs": [],
   "source": [
    "data = data_helper.prepare_data()\n",
    "df = data_helper.aggregate(data)\n",
    "\n",
    "scaler = StandardScaler()\n",
    "# scaler = MinMaxScaler()\n",
    "\n",
    "X = df.drop(columns=[\"label\", \"subject\"])\n",
    "X_scaled = scaler.fit_transform(X)\n",
    "y = df[\"label\"]\n",
    "cc = y.unique()"
   ]
  },
  {
   "cell_type": "markdown",
   "metadata": {},
   "source": [
    "## ML-Methods (classifier only)\n",
    "\n",
    "As there is a classification problem no regression is used"
   ]
  },
  {
   "cell_type": "code",
   "execution_count": 42,
   "metadata": {},
   "outputs": [],
   "source": [
    "# for repeatability we use a fixed random state\n",
    "rs = 15\n",
    "\n",
    "knnc5 = KNeighborsClassifier(5, n_jobs=-1)\n",
    "knnc10 = KNeighborsClassifier(10, n_jobs=-1)\n",
    "svml = SVC(kernel=\"linear\", random_state=rs)\n",
    "svmr = SVC(kernel=\"rbf\", random_state=rs)\n",
    "dtc = DecisionTreeClassifier(max_depth=10, random_state=rs)\n",
    "rf = RandomForestClassifier(max_depth=5, n_estimators=10, random_state=rs)\n",
    "gnb = GaussianNB()\n",
    "\n",
    "classifier = [\n",
    "    (\"5 Nearest Neighbor\", knnc5),\n",
    "    (\"10 Nearest Neighbor\", knnc10),\n",
    "    (\"Linear SVM\", svml),\n",
    "    (\"RBF SVM\", svmr),\n",
    "    (\"Decision Tree\", dtc),\n",
    "    (\"Random Forest\", rf),\n",
    "    (\"Gaussian Naive Bayes\", gnb)\n",
    "]"
   ]
  },
  {
   "cell_type": "markdown",
   "metadata": {},
   "source": [
    "## Methods"
   ]
  },
  {
   "cell_type": "code",
   "execution_count": 43,
   "metadata": {},
   "outputs": [],
   "source": [
    "def evaluateSplits(clf_list = classifier, X=X_scaled, y=y, splits=None):\n",
    "    scores = np.zeros((len(splits), len(clf_list)))\n",
    "    rep = [None] * len(classifier)\n",
    "    for split_idx, (train_index, test_index) in tqdm(enumerate(splits), total=len(splits)):\n",
    "        y_train, y_test = y[train_index], y[test_index]\n",
    "        X_train, X_test = X[train_index], X[test_index]\n",
    "\n",
    "        for clf_idx, (name, clf) in enumerate(clf_list):\n",
    "            clf.fit(X_train, y_train)\n",
    "\n",
    "            pred = clf.predict(X_test)\n",
    "\n",
    "            acc_score = metrics.accuracy_score(pred, y_test)\n",
    "\n",
    "            scores[split_idx, clf_idx] = acc_score\n",
    "    return np.mean(scores, axis=0), rep\n",
    "\n",
    "def printResults(res, clf_list = classifier):\n",
    "    max_acc = 0\n",
    "    idx = -1\n",
    "    for i in range(len(clf_list)):\n",
    "        acc = res[0][i]\n",
    "        if acc > max_acc:\n",
    "            max_acc = acc\n",
    "            idx = i\n",
    "        print(clf_list[i][0])\n",
    "        print('Mean accuracy:', acc)\n",
    "        print('Confusion Matrix:')\n",
    "        print(res[1][i])\n",
    "        print(\"\\n\")\n",
    "    \n",
    "    print(\"\\nBest Result:\")\n",
    "    print(print(clf_list[idx][0]))\n",
    "    print('Mean accuracy:', max_acc)"
   ]
  },
  {
   "cell_type": "markdown",
   "metadata": {},
   "source": [
    "### Leave one Group Out"
   ]
  },
  {
   "cell_type": "code",
   "execution_count": 44,
   "metadata": {},
   "outputs": [
    {
     "name": "stderr",
     "output_type": "stream",
     "text": [
      "100%|██████████| 56/56 [00:37<00:00,  1.51it/s]\n"
     ]
    }
   ],
   "source": [
    "logo_splits = list(LeaveOneGroupOut().split(X_scaled,y, groups=df[\"subject\"]))\n",
    "\n",
    "logo_res = evaluateSplits(splits=logo_splits)"
   ]
  },
  {
   "cell_type": "code",
   "execution_count": 45,
   "metadata": {},
   "outputs": [
    {
     "name": "stdout",
     "output_type": "stream",
     "text": [
      "5 Nearest Neighbor\n",
      "Mean accuracy: 0.6284839794841881\n",
      "Confusion Matrix:\n",
      "None\n",
      "\n",
      "\n",
      "10 Nearest Neighbor\n",
      "Mean accuracy: 0.6534577512151951\n",
      "Confusion Matrix:\n",
      "None\n",
      "\n",
      "\n",
      "Linear SVM\n",
      "Mean accuracy: 0.629685235567785\n",
      "Confusion Matrix:\n",
      "None\n",
      "\n",
      "\n",
      "RBF SVM\n",
      "Mean accuracy: 0.6512773613021613\n",
      "Confusion Matrix:\n",
      "None\n",
      "\n",
      "\n",
      "Decision Tree\n",
      "Mean accuracy: 0.5923127475465838\n",
      "Confusion Matrix:\n",
      "None\n",
      "\n",
      "\n",
      "Random Forest\n",
      "Mean accuracy: 0.695439883941277\n",
      "Confusion Matrix:\n",
      "None\n",
      "\n",
      "\n",
      "Gaussian Naive Bayes\n",
      "Mean accuracy: 0.5792206860299193\n",
      "Confusion Matrix:\n",
      "None\n",
      "\n",
      "\n",
      "\n",
      "Best Result:\n",
      "Random Forest\n",
      "None\n",
      "Mean accuracy: 0.695439883941277\n"
     ]
    }
   ],
   "source": [
    "printResults(logo_res)"
   ]
  },
  {
   "cell_type": "markdown",
   "metadata": {},
   "source": [
    "### k-fold cross-validation"
   ]
  },
  {
   "cell_type": "code",
   "execution_count": 46,
   "metadata": {},
   "outputs": [
    {
     "name": "stderr",
     "output_type": "stream",
     "text": [
      "100%|██████████| 10/10 [00:06<00:00,  1.63it/s]\n",
      "100%|██████████| 20/20 [00:12<00:00,  1.55it/s]\n"
     ]
    }
   ],
   "source": [
    "kfold_splits_10 = list(KFold(n_splits=10, shuffle=True, random_state=rs).split(X_scaled, y))\n",
    "kfold_splits_20 = list(KFold(n_splits=20, shuffle=True, random_state=rs).split(X_scaled, y))\n",
    "\n",
    "k10_res = evaluateSplits(splits=kfold_splits_10)\n",
    "k20_res = evaluateSplits(splits=kfold_splits_20)"
   ]
  },
  {
   "cell_type": "code",
   "execution_count": 47,
   "metadata": {},
   "outputs": [
    {
     "name": "stdout",
     "output_type": "stream",
     "text": [
      "5 Nearest Neighbor\n",
      "Mean accuracy: 0.8606885903967887\n",
      "Confusion Matrix:\n",
      "None\n",
      "\n",
      "\n",
      "10 Nearest Neighbor\n",
      "Mean accuracy: 0.8579311409603212\n",
      "Confusion Matrix:\n",
      "None\n",
      "\n",
      "\n",
      "Linear SVM\n",
      "Mean accuracy: 0.7819839431835728\n",
      "Confusion Matrix:\n",
      "None\n",
      "\n",
      "\n",
      "RBF SVM\n",
      "Mean accuracy: 0.8256677474139262\n",
      "Confusion Matrix:\n",
      "None\n",
      "\n",
      "\n",
      "Decision Tree\n",
      "Mean accuracy: 0.8307812258761773\n",
      "Confusion Matrix:\n",
      "None\n",
      "\n",
      "\n",
      "Random Forest\n",
      "Mean accuracy: 0.8441608769492049\n",
      "Confusion Matrix:\n",
      "None\n",
      "\n",
      "\n",
      "Gaussian Naive Bayes\n",
      "Mean accuracy: 0.6851767793731665\n",
      "Confusion Matrix:\n",
      "None\n",
      "\n",
      "\n",
      "\n",
      "Best Result:\n",
      "5 Nearest Neighbor\n",
      "None\n",
      "Mean accuracy: 0.8606885903967887\n"
     ]
    }
   ],
   "source": [
    "printResults(k10_res)"
   ]
  },
  {
   "cell_type": "code",
   "execution_count": 48,
   "metadata": {},
   "outputs": [
    {
     "name": "stdout",
     "output_type": "stream",
     "text": [
      "5 Nearest Neighbor\n",
      "Mean accuracy: 0.8618879183070867\n",
      "Confusion Matrix:\n",
      "None\n",
      "\n",
      "\n",
      "10 Nearest Neighbor\n",
      "Mean accuracy: 0.8610912893700787\n",
      "Confusion Matrix:\n",
      "None\n",
      "\n",
      "\n",
      "Linear SVM\n",
      "Mean accuracy: 0.7823665108267719\n",
      "Confusion Matrix:\n",
      "None\n",
      "\n",
      "\n",
      "RBF SVM\n",
      "Mean accuracy: 0.8315637303149608\n",
      "Confusion Matrix:\n",
      "None\n",
      "\n",
      "\n",
      "Decision Tree\n",
      "Mean accuracy: 0.8296136811023624\n",
      "Confusion Matrix:\n",
      "None\n",
      "\n",
      "\n",
      "Random Forest\n",
      "Mean accuracy: 0.8484990157480314\n",
      "Confusion Matrix:\n",
      "None\n",
      "\n",
      "\n",
      "Gaussian Naive Bayes\n",
      "Mean accuracy: 0.6859621062992128\n",
      "Confusion Matrix:\n",
      "None\n",
      "\n",
      "\n",
      "\n",
      "Best Result:\n",
      "5 Nearest Neighbor\n",
      "None\n",
      "Mean accuracy: 0.8618879183070867\n"
     ]
    }
   ],
   "source": [
    "printResults(k20_res)"
   ]
  },
  {
   "cell_type": "markdown",
   "metadata": {},
   "source": [
    "## Eliminate Features\n",
    "\n",
    "As the easiest way at the moment to eliminate features is via a RF classifier, it will be uesed here as an example."
   ]
  },
  {
   "cell_type": "code",
   "execution_count": 49,
   "metadata": {},
   "outputs": [
    {
     "name": "stdout",
     "output_type": "stream",
     "text": [
      "[(False, 'alpha_min'), (False, 'alpha_max'), (False, 'alpha_mean'), (True, 'alpha_median'), (False, 'alpha_std'), (True, 'alpha_var'), (False, 'beta_min'), (False, 'beta_max'), (False, 'beta_mean'), (False, 'beta_median'), (True, 'beta_std'), (False, 'beta_var'), (True, 'gamma_min'), (False, 'gamma_max'), (False, 'gamma_mean'), (False, 'gamma_median'), (False, 'gamma_std'), (False, 'gamma_var'), (False, 'x_min'), (False, 'x_max'), (False, 'x_mean'), (False, 'x_median'), (False, 'x_std'), (True, 'x_var'), (False, 'y_min'), (True, 'y_max'), (False, 'y_mean'), (True, 'y_median'), (True, 'y_std'), (False, 'y_var'), (True, 'z_min'), (False, 'z_max'), (True, 'z_mean'), (False, 'z_median'), (False, 'z_std'), (False, 'z_var')]\n"
     ]
    }
   ],
   "source": [
    "rf = RandomForestClassifier(max_depth=5, n_estimators=10, max_features= 1, random_state=rs)\n",
    "rfe = RFE(rf, n_features_to_select=10)\n",
    "rfe.fit(X_scaled,y)\n",
    "columns = list(zip(rfe.support_, X.columns))\n",
    "print(columns)"
   ]
  },
  {
   "cell_type": "code",
   "execution_count": 50,
   "metadata": {},
   "outputs": [
    {
     "data": {
      "text/plain": [
       "['alpha_min',\n",
       " 'alpha_max',\n",
       " 'alpha_mean',\n",
       " 'alpha_std',\n",
       " 'beta_min',\n",
       " 'beta_max',\n",
       " 'beta_mean',\n",
       " 'beta_median',\n",
       " 'beta_var',\n",
       " 'gamma_max',\n",
       " 'gamma_mean',\n",
       " 'gamma_median',\n",
       " 'gamma_std',\n",
       " 'gamma_var',\n",
       " 'x_min',\n",
       " 'x_max',\n",
       " 'x_mean',\n",
       " 'x_median',\n",
       " 'x_std',\n",
       " 'y_min',\n",
       " 'y_mean',\n",
       " 'y_var',\n",
       " 'z_max',\n",
       " 'z_median',\n",
       " 'z_std',\n",
       " 'z_var']"
      ]
     },
     "execution_count": 50,
     "metadata": {},
     "output_type": "execute_result"
    }
   ],
   "source": [
    "removed = [c for b, c in columns if ~b]\n",
    "removed"
   ]
  },
  {
   "cell_type": "code",
   "execution_count": 51,
   "metadata": {},
   "outputs": [
    {
     "data": {
      "text/plain": [
       "Index(['alpha_median', 'alpha_var', 'beta_std', 'gamma_min', 'x_var', 'y_max',\n",
       "       'y_median', 'y_std', 'z_min', 'z_mean'],\n",
       "      dtype='object')"
      ]
     },
     "execution_count": 51,
     "metadata": {},
     "output_type": "execute_result"
    }
   ],
   "source": [
    "X_red = X.drop(columns=removed)\n",
    "X_red_scaled = scaler.fit_transform(X_red)\n",
    "X_red.columns"
   ]
  },
  {
   "cell_type": "code",
   "execution_count": 52,
   "metadata": {},
   "outputs": [
    {
     "name": "stderr",
     "output_type": "stream",
     "text": [
      "100%|██████████| 10/10 [00:04<00:00,  2.42it/s]\n",
      "100%|██████████| 20/20 [00:08<00:00,  2.37it/s]\n"
     ]
    }
   ],
   "source": [
    "kfold_splits_10_red = list(KFold(n_splits=10, shuffle=True, random_state=rs).split(X_red_scaled, y))\n",
    "kfold_splits_20_red = list(KFold(n_splits=20, shuffle=True, random_state=rs).split(X_red_scaled, y))\n",
    "\n",
    "k10_res_red = evaluateSplits(splits=kfold_splits_10_red, X=X_red_scaled)\n",
    "k20_res_red = evaluateSplits(splits=kfold_splits_20_red, X=X_red_scaled)"
   ]
  },
  {
   "cell_type": "code",
   "execution_count": 53,
   "metadata": {},
   "outputs": [
    {
     "name": "stdout",
     "output_type": "stream",
     "text": [
      "5 Nearest Neighbor\n",
      "Mean accuracy: 0.8547892542843911\n",
      "Confusion Matrix:\n",
      "None\n",
      "\n",
      "\n",
      "10 Nearest Neighbor\n",
      "Mean accuracy: 0.8602902578354177\n",
      "Confusion Matrix:\n",
      "None\n",
      "\n",
      "\n",
      "Linear SVM\n",
      "Mean accuracy: 0.7666311563995677\n",
      "Confusion Matrix:\n",
      "None\n",
      "\n",
      "\n",
      "RBF SVM\n",
      "Mean accuracy: 0.844951366373321\n",
      "Confusion Matrix:\n",
      "None\n",
      "\n",
      "\n",
      "Decision Tree\n",
      "Mean accuracy: 0.8299938243013741\n",
      "Confusion Matrix:\n",
      "None\n",
      "\n",
      "\n",
      "Random Forest\n",
      "Mean accuracy: 0.8512444032731203\n",
      "Confusion Matrix:\n",
      "None\n",
      "\n",
      "\n",
      "Gaussian Naive Bayes\n",
      "Mean accuracy: 0.6879326848849775\n",
      "Confusion Matrix:\n",
      "None\n",
      "\n",
      "\n",
      "\n",
      "Best Result:\n",
      "10 Nearest Neighbor\n",
      "None\n",
      "Mean accuracy: 0.8602902578354177\n"
     ]
    }
   ],
   "source": [
    "printResults(k10_res_red)"
   ]
  },
  {
   "cell_type": "code",
   "execution_count": 54,
   "metadata": {},
   "outputs": [
    {
     "name": "stdout",
     "output_type": "stream",
     "text": [
      "5 Nearest Neighbor\n",
      "Mean accuracy: 0.8543953001968505\n",
      "Confusion Matrix:\n",
      "None\n",
      "\n",
      "\n",
      "10 Nearest Neighbor\n",
      "Mean accuracy: 0.858716781496063\n",
      "Confusion Matrix:\n",
      "None\n",
      "\n",
      "\n",
      "Linear SVM\n",
      "Mean accuracy: 0.7670183316929137\n",
      "Confusion Matrix:\n",
      "None\n",
      "\n",
      "\n",
      "RBF SVM\n",
      "Mean accuracy: 0.8433809055118111\n",
      "Confusion Matrix:\n",
      "None\n",
      "\n",
      "\n",
      "Decision Tree\n",
      "Mean accuracy: 0.8394500492125985\n",
      "Confusion Matrix:\n",
      "None\n",
      "\n",
      "\n",
      "Random Forest\n",
      "Mean accuracy: 0.8441652312992127\n",
      "Confusion Matrix:\n",
      "None\n",
      "\n",
      "\n",
      "Gaussian Naive Bayes\n",
      "Mean accuracy: 0.6898960383858269\n",
      "Confusion Matrix:\n",
      "None\n",
      "\n",
      "\n",
      "\n",
      "Best Result:\n",
      "10 Nearest Neighbor\n",
      "None\n",
      "Mean accuracy: 0.858716781496063\n"
     ]
    }
   ],
   "source": [
    "printResults(k20_res_red)"
   ]
  },
  {
   "cell_type": "markdown",
   "metadata": {},
   "source": [
    "## Bagging"
   ]
  },
  {
   "cell_type": "code",
   "execution_count": 55,
   "metadata": {},
   "outputs": [
    {
     "name": "stderr",
     "output_type": "stream",
     "text": [
      "100%|██████████| 20/20 [00:35<00:00,  1.78s/it]\n",
      "100%|██████████| 20/20 [00:35<00:00,  1.75s/it]\n"
     ]
    }
   ],
   "source": [
    "bagging_list = [\n",
    "    (\"Bagging Gausian Naive Bayes5\", BaggingClassifier(base_estimator=gnb, n_estimators=5, random_state=rs, n_jobs=-1)),\n",
    "    (\"Bagging Gausian Naive Bayes10\", BaggingClassifier(base_estimator=gnb, n_estimators=10, random_state=rs, n_jobs=-1)),\n",
    "    (\"Bagging Gausian Naive Bayes15\", BaggingClassifier(base_estimator=gnb, n_estimators=15, random_state=rs, n_jobs=-1)),\n",
    "    (\"Bagging Gausian Naive Bayes20\", BaggingClassifier(base_estimator=gnb, n_estimators=20, random_state=rs, n_jobs=-1))\n",
    "]\n",
    "\n",
    "bag_res = evaluateSplits(clf_list=bagging_list, splits=kfold_splits_20)\n",
    "bag_red_res = evaluateSplits(clf_list=bagging_list, splits=kfold_splits_20_red, X=X_red_scaled)"
   ]
  },
  {
   "cell_type": "code",
   "execution_count": 56,
   "metadata": {},
   "outputs": [
    {
     "name": "stdout",
     "output_type": "stream",
     "text": [
      "Bagging Gausian Naive Bayes5\n",
      "Mean accuracy: 0.6891117125984255\n",
      "Confusion Matrix:\n",
      "None\n",
      "\n",
      "\n",
      "Bagging Gausian Naive Bayes10\n",
      "Mean accuracy: 0.685962106299213\n",
      "Confusion Matrix:\n",
      "None\n",
      "\n",
      "\n",
      "Bagging Gausian Naive Bayes15\n",
      "Mean accuracy: 0.6867495078740161\n",
      "Confusion Matrix:\n",
      "None\n",
      "\n",
      "\n",
      "Bagging Gausian Naive Bayes20\n",
      "Mean accuracy: 0.6875369094488193\n",
      "Confusion Matrix:\n",
      "None\n",
      "\n",
      "\n",
      "\n",
      "Best Result:\n",
      "Bagging Gausian Naive Bayes5\n",
      "None\n",
      "Mean accuracy: 0.6891117125984255\n"
     ]
    }
   ],
   "source": [
    "printResults(bag_res, clf_list=bagging_list)"
   ]
  },
  {
   "cell_type": "code",
   "execution_count": 57,
   "metadata": {},
   "outputs": [
    {
     "name": "stdout",
     "output_type": "stream",
     "text": [
      "Bagging Gausian Naive Bayes5\n",
      "Mean accuracy: 0.6950079970472444\n",
      "Confusion Matrix:\n",
      "None\n",
      "\n",
      "\n",
      "Bagging Gausian Naive Bayes10\n",
      "Mean accuracy: 0.6930394931102365\n",
      "Confusion Matrix:\n",
      "None\n",
      "\n",
      "\n",
      "Bagging Gausian Naive Bayes15\n",
      "Mean accuracy: 0.6950079970472444\n",
      "Confusion Matrix:\n",
      "None\n",
      "\n",
      "\n",
      "Bagging Gausian Naive Bayes20\n",
      "Mean accuracy: 0.6914708415354334\n",
      "Confusion Matrix:\n",
      "None\n",
      "\n",
      "\n",
      "\n",
      "Best Result:\n",
      "Bagging Gausian Naive Bayes5\n",
      "None\n",
      "Mean accuracy: 0.6950079970472444\n"
     ]
    }
   ],
   "source": [
    "printResults(bag_red_res, clf_list=bagging_list)"
   ]
  },
  {
   "cell_type": "code",
   "execution_count": 58,
   "metadata": {},
   "outputs": [
    {
     "name": "stderr",
     "output_type": "stream",
     "text": [
      "100%|██████████| 20/20 [01:07<00:00,  3.39s/it]\n",
      "100%|██████████| 20/20 [00:59<00:00,  2.97s/it]\n"
     ]
    }
   ],
   "source": [
    "bagging_list2 = [\n",
    "    (\"Bagging KNN5 5\", BaggingClassifier(base_estimator=knnc5, n_estimators=5, random_state=rs, n_jobs=-1)),\n",
    "    (\"Bagging KNN5 10\", BaggingClassifier(base_estimator=knnc5, n_estimators=10, random_state=rs, n_jobs=-1)),\n",
    "    (\"Bagging KNN5 15\", BaggingClassifier(base_estimator=knnc5, n_estimators=15, random_state=rs, n_jobs=-1)),\n",
    "    (\"Bagging KNN5 20\", BaggingClassifier(base_estimator=knnc5, n_estimators=20, random_state=rs, n_jobs=-1))\n",
    "]\n",
    "\n",
    "bag_res2 = evaluateSplits(clf_list=bagging_list2, splits=kfold_splits_20)\n",
    "bag_red_res2 = evaluateSplits(clf_list=bagging_list2, splits=kfold_splits_20_red, X=X_red_scaled)"
   ]
  },
  {
   "cell_type": "code",
   "execution_count": 59,
   "metadata": {},
   "outputs": [
    {
     "name": "stdout",
     "output_type": "stream",
     "text": [
      "Bagging KNN5 5\n",
      "Mean accuracy: 0.8662093996062993\n",
      "Confusion Matrix:\n",
      "None\n",
      "\n",
      "\n",
      "Bagging KNN5 10\n",
      "Mean accuracy: 0.8634534940944883\n",
      "Confusion Matrix:\n",
      "None\n",
      "\n",
      "\n",
      "Bagging KNN5 15\n",
      "Mean accuracy: 0.8650252214566929\n",
      "Confusion Matrix:\n",
      "None\n",
      "\n",
      "\n",
      "Bagging KNN5 20\n",
      "Mean accuracy: 0.8662063238188977\n",
      "Confusion Matrix:\n",
      "None\n",
      "\n",
      "\n",
      "\n",
      "Best Result:\n",
      "Bagging KNN5 5\n",
      "None\n",
      "Mean accuracy: 0.8662093996062993\n"
     ]
    }
   ],
   "source": [
    "printResults(bag_res2, clf_list=bagging_list2)"
   ]
  },
  {
   "cell_type": "code",
   "execution_count": 60,
   "metadata": {},
   "outputs": [
    {
     "name": "stdout",
     "output_type": "stream",
     "text": [
      "Bagging KNN5 5\n",
      "Mean accuracy: 0.861472687007874\n",
      "Confusion Matrix:\n",
      "None\n",
      "\n",
      "\n",
      "Bagging KNN5 10\n",
      "Mean accuracy: 0.8602885088582678\n",
      "Confusion Matrix:\n",
      "None\n",
      "\n",
      "\n",
      "Bagging KNN5 15\n",
      "Mean accuracy: 0.861472687007874\n",
      "Confusion Matrix:\n",
      "None\n",
      "\n",
      "\n",
      "Bagging KNN5 20\n",
      "Mean accuracy: 0.8575387549212599\n",
      "Confusion Matrix:\n",
      "None\n",
      "\n",
      "\n",
      "\n",
      "Best Result:\n",
      "Bagging KNN5 5\n",
      "None\n",
      "Mean accuracy: 0.861472687007874\n"
     ]
    }
   ],
   "source": [
    "printResults(bag_red_res2, clf_list=bagging_list2)"
   ]
  },
  {
   "cell_type": "markdown",
   "metadata": {},
   "source": [
    "## not Scaled"
   ]
  },
  {
   "cell_type": "code",
   "execution_count": 61,
   "metadata": {},
   "outputs": [
    {
     "name": "stderr",
     "output_type": "stream",
     "text": [
      "100%|██████████| 56/56 [00:37<00:00,  1.50it/s]\n",
      "100%|██████████| 10/10 [00:06<00:00,  1.62it/s]\n",
      "100%|██████████| 20/20 [00:12<00:00,  1.54it/s]\n"
     ]
    }
   ],
   "source": [
    "logo_splits_ns = list(LeaveOneGroupOut().split(X,y, groups=df[\"subject\"]))\n",
    "\n",
    "logo_res_ns = evaluateSplits(splits=logo_splits_ns)\n",
    "\n",
    "kfold_splits_10_ns = list(KFold(n_splits=10, shuffle=True, random_state=rs).split(X, y))\n",
    "kfold_splits_20_ns = list(KFold(n_splits=20, shuffle=True, random_state=rs).split(X, y))\n",
    "\n",
    "k10_res_ns = evaluateSplits(splits=kfold_splits_10_ns)\n",
    "k20_res_ns = evaluateSplits(splits=kfold_splits_20_ns)"
   ]
  },
  {
   "cell_type": "code",
   "execution_count": 62,
   "metadata": {},
   "outputs": [
    {
     "name": "stdout",
     "output_type": "stream",
     "text": [
      "5 Nearest Neighbor\n",
      "Mean accuracy: 0.6284839794841881\n",
      "Confusion Matrix:\n",
      "None\n",
      "\n",
      "\n",
      "10 Nearest Neighbor\n",
      "Mean accuracy: 0.6534577512151951\n",
      "Confusion Matrix:\n",
      "None\n",
      "\n",
      "\n",
      "Linear SVM\n",
      "Mean accuracy: 0.629685235567785\n",
      "Confusion Matrix:\n",
      "None\n",
      "\n",
      "\n",
      "RBF SVM\n",
      "Mean accuracy: 0.6512773613021613\n",
      "Confusion Matrix:\n",
      "None\n",
      "\n",
      "\n",
      "Decision Tree\n",
      "Mean accuracy: 0.5923127475465838\n",
      "Confusion Matrix:\n",
      "None\n",
      "\n",
      "\n",
      "Random Forest\n",
      "Mean accuracy: 0.695439883941277\n",
      "Confusion Matrix:\n",
      "None\n",
      "\n",
      "\n",
      "Gaussian Naive Bayes\n",
      "Mean accuracy: 0.5792206860299193\n",
      "Confusion Matrix:\n",
      "None\n",
      "\n",
      "\n",
      "\n",
      "Best Result:\n",
      "Random Forest\n",
      "None\n",
      "Mean accuracy: 0.695439883941277\n"
     ]
    }
   ],
   "source": [
    "printResults(logo_res_ns)"
   ]
  },
  {
   "cell_type": "code",
   "execution_count": 63,
   "metadata": {},
   "outputs": [
    {
     "name": "stdout",
     "output_type": "stream",
     "text": [
      "5 Nearest Neighbor\n",
      "Mean accuracy: 0.8606885903967887\n",
      "Confusion Matrix:\n",
      "None\n",
      "\n",
      "\n",
      "10 Nearest Neighbor\n",
      "Mean accuracy: 0.8579311409603212\n",
      "Confusion Matrix:\n",
      "None\n",
      "\n",
      "\n",
      "Linear SVM\n",
      "Mean accuracy: 0.7819839431835728\n",
      "Confusion Matrix:\n",
      "None\n",
      "\n",
      "\n",
      "RBF SVM\n",
      "Mean accuracy: 0.8256677474139262\n",
      "Confusion Matrix:\n",
      "None\n",
      "\n",
      "\n",
      "Decision Tree\n",
      "Mean accuracy: 0.8307812258761773\n",
      "Confusion Matrix:\n",
      "None\n",
      "\n",
      "\n",
      "Random Forest\n",
      "Mean accuracy: 0.8441608769492049\n",
      "Confusion Matrix:\n",
      "None\n",
      "\n",
      "\n",
      "Gaussian Naive Bayes\n",
      "Mean accuracy: 0.6851767793731665\n",
      "Confusion Matrix:\n",
      "None\n",
      "\n",
      "\n",
      "\n",
      "Best Result:\n",
      "5 Nearest Neighbor\n",
      "None\n",
      "Mean accuracy: 0.8606885903967887\n"
     ]
    }
   ],
   "source": [
    "printResults(k10_res_ns)"
   ]
  },
  {
   "cell_type": "code",
   "execution_count": 64,
   "metadata": {},
   "outputs": [
    {
     "name": "stdout",
     "output_type": "stream",
     "text": [
      "5 Nearest Neighbor\n",
      "Mean accuracy: 0.8618879183070867\n",
      "Confusion Matrix:\n",
      "None\n",
      "\n",
      "\n",
      "10 Nearest Neighbor\n",
      "Mean accuracy: 0.8610912893700787\n",
      "Confusion Matrix:\n",
      "None\n",
      "\n",
      "\n",
      "Linear SVM\n",
      "Mean accuracy: 0.7823665108267719\n",
      "Confusion Matrix:\n",
      "None\n",
      "\n",
      "\n",
      "RBF SVM\n",
      "Mean accuracy: 0.8315637303149608\n",
      "Confusion Matrix:\n",
      "None\n",
      "\n",
      "\n",
      "Decision Tree\n",
      "Mean accuracy: 0.8296136811023624\n",
      "Confusion Matrix:\n",
      "None\n",
      "\n",
      "\n",
      "Random Forest\n",
      "Mean accuracy: 0.8484990157480314\n",
      "Confusion Matrix:\n",
      "None\n",
      "\n",
      "\n",
      "Gaussian Naive Bayes\n",
      "Mean accuracy: 0.6859621062992128\n",
      "Confusion Matrix:\n",
      "None\n",
      "\n",
      "\n",
      "\n",
      "Best Result:\n",
      "5 Nearest Neighbor\n",
      "None\n",
      "Mean accuracy: 0.8618879183070867\n"
     ]
    }
   ],
   "source": [
    "printResults(k20_res_ns)"
   ]
  },
  {
   "cell_type": "markdown",
   "metadata": {},
   "source": [
    "## Export best result\n",
    "\n",
    "As there is no big difference between scaled and not, the js version uses non scaled data for easier use."
   ]
  },
  {
   "cell_type": "code",
   "execution_count": 65,
   "metadata": {},
   "outputs": [
    {
     "name": "stdout",
     "output_type": "stream",
     "text": [
      "['sitting' 'standing' 'walking']\n"
     ]
    }
   ],
   "source": [
    "best_clf = GaussianNB()\n",
    "best_clf.fit(X, y)\n",
    "\n",
    "print(best_clf.classes_)\n",
    "\n",
    "porter = Porter(best_clf, language='js')\n",
    "export = porter.export(embed_data=True)\n",
    "f = open(\"naive_bayes_clf.js\", \"w\")\n",
    "f.write(export)\n",
    "f.close()"
   ]
  },
  {
   "cell_type": "code",
   "execution_count": 66,
   "metadata": {},
   "outputs": [
    {
     "name": "stdout",
     "output_type": "stream",
     "text": [
      "['sitting' 'standing' 'walking']\n"
     ]
    },
    {
     "name": "stderr",
     "output_type": "stream",
     "text": [
      "C:\\Users\\Anwender\\anaconda3\\envs\\py379\\lib\\site-packages\\sklearn\\utils\\deprecation.py:144: FutureWarning: The sklearn.neighbors.kd_tree module is  deprecated in version 0.22 and will be removed in version 0.24. The corresponding classes / functions should instead be imported from sklearn.neighbors. Anything that cannot be imported from sklearn.neighbors is now part of the private API.\n",
      "  warnings.warn(message, FutureWarning)\n",
      "C:\\Users\\Anwender\\anaconda3\\envs\\py379\\lib\\site-packages\\sklearn\\utils\\deprecation.py:144: FutureWarning: The sklearn.neighbors.ball_tree module is  deprecated in version 0.22 and will be removed in version 0.24. The corresponding classes / functions should instead be imported from sklearn.neighbors. Anything that cannot be imported from sklearn.neighbors is now part of the private API.\n",
      "  warnings.warn(message, FutureWarning)\n"
     ]
    }
   ],
   "source": [
    "best_clf2 = KNeighborsClassifier(5, n_jobs=-1)\n",
    "best_clf2.fit(X, y)\n",
    "\n",
    "print(best_clf2.classes_)\n",
    "\n",
    "porter = Porter(best_clf2, language='js')\n",
    "export = porter.export(embed_data=True)\n",
    "f = open(\"knn5_clf.js\", \"w\")\n",
    "f.write(export)\n",
    "f.close()"
   ]
  }
 ],
 "metadata": {
  "interpreter": {
   "hash": "fe4bc8355510dca7c970eda7d757f28d8eb6b1b558205348f851a765a46084af"
  },
  "kernelspec": {
   "display_name": "Python 3.7.9 64-bit ('py379': conda)",
   "name": "python3"
  },
  "language_info": {
   "codemirror_mode": {
    "name": "ipython",
    "version": 3
   },
   "file_extension": ".py",
   "mimetype": "text/x-python",
   "name": "python",
   "nbconvert_exporter": "python",
   "pygments_lexer": "ipython3",
   "version": "3.7.9"
  },
  "orig_nbformat": 4
 },
 "nbformat": 4,
 "nbformat_minor": 2
}
