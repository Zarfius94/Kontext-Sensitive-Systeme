{
 "cells": [
  {
   "cell_type": "markdown",
   "source": [
    "# Training"
   ],
   "metadata": {}
  },
  {
   "cell_type": "markdown",
   "source": [
    "## Imports"
   ],
   "metadata": {}
  },
  {
   "cell_type": "code",
   "execution_count": 1,
   "source": [
    "import numpy as np\r\n",
    "import pandas as pd\r\n",
    "\r\n",
    "from sklearn.preprocessing import StandardScaler, MinMaxScaler\r\n",
    "from sklearn.neighbors import KNeighborsClassifier\r\n",
    "from sklearn.svm import SVC\r\n",
    "from sklearn.tree import DecisionTreeClassifier\r\n",
    "from sklearn.ensemble import RandomForestClassifier, BaggingClassifier\r\n",
    "from sklearn.naive_bayes import GaussianNB\r\n",
    "from sklearn.model_selection import LeaveOneGroupOut, KFold, train_test_split\r\n",
    "from sklearn import metrics\r\n",
    "from sklearn.feature_selection import RFE\r\n",
    "# Works only with python 3.7.9. and sklearn on v 0.22.0 !!!!!\r\n",
    "from sklearn_porter import Porter\r\n",
    "\r\n",
    "from tqdm import tqdm\r\n",
    "\r\n",
    "import data_helper"
   ],
   "outputs": [
    {
     "output_type": "stream",
     "name": "stderr",
     "text": [
      "C:\\Users\\Anwender\\anaconda3\\envs\\py379\\lib\\site-packages\\sklearn\\utils\\deprecation.py:144: FutureWarning: The sklearn.tree.tree module is  deprecated in version 0.22 and will be removed in version 0.24. The corresponding classes / functions should instead be imported from sklearn.tree. Anything that cannot be imported from sklearn.tree is now part of the private API.\n",
      "  warnings.warn(message, FutureWarning)\n",
      "C:\\Users\\Anwender\\anaconda3\\envs\\py379\\lib\\site-packages\\sklearn\\utils\\deprecation.py:144: FutureWarning: The sklearn.ensemble.weight_boosting module is  deprecated in version 0.22 and will be removed in version 0.24. The corresponding classes / functions should instead be imported from sklearn.ensemble. Anything that cannot be imported from sklearn.ensemble is now part of the private API.\n",
      "  warnings.warn(message, FutureWarning)\n",
      "C:\\Users\\Anwender\\anaconda3\\envs\\py379\\lib\\site-packages\\sklearn\\utils\\deprecation.py:144: FutureWarning: The sklearn.ensemble.forest module is  deprecated in version 0.22 and will be removed in version 0.24. The corresponding classes / functions should instead be imported from sklearn.ensemble. Anything that cannot be imported from sklearn.ensemble is now part of the private API.\n",
      "  warnings.warn(message, FutureWarning)\n",
      "C:\\Users\\Anwender\\anaconda3\\envs\\py379\\lib\\site-packages\\sklearn\\utils\\deprecation.py:144: FutureWarning: The sklearn.svm.classes module is  deprecated in version 0.22 and will be removed in version 0.24. The corresponding classes / functions should instead be imported from sklearn.svm. Anything that cannot be imported from sklearn.svm is now part of the private API.\n",
      "  warnings.warn(message, FutureWarning)\n",
      "C:\\Users\\Anwender\\anaconda3\\envs\\py379\\lib\\site-packages\\sklearn\\utils\\deprecation.py:144: FutureWarning: The sklearn.neighbors.classification module is  deprecated in version 0.22 and will be removed in version 0.24. The corresponding classes / functions should instead be imported from sklearn.neighbors. Anything that cannot be imported from sklearn.neighbors is now part of the private API.\n",
      "  warnings.warn(message, FutureWarning)\n"
     ]
    }
   ],
   "metadata": {}
  },
  {
   "cell_type": "markdown",
   "source": [
    "## Data"
   ],
   "metadata": {}
  },
  {
   "cell_type": "code",
   "execution_count": 2,
   "source": [
    "data = data_helper.prepare_data()\r\n",
    "df = data_helper.aggregate(data)\r\n",
    "\r\n",
    "scaler = StandardScaler()\r\n",
    "# scaler = MinMaxScaler()\r\n",
    "\r\n",
    "X = df.drop(columns=[\"label\", \"subject\"])\r\n",
    "X_scaled = scaler.fit_transform(X)\r\n",
    "y = df[\"label\"]\r\n",
    "cc = y.unique()"
   ],
   "outputs": [],
   "metadata": {}
  },
  {
   "cell_type": "markdown",
   "source": [
    "## ML-Methods (classifier only)\r\n",
    "\r\n",
    "As there is a classification problem no regression is used"
   ],
   "metadata": {}
  },
  {
   "cell_type": "code",
   "execution_count": 3,
   "source": [
    "# for repeatability we use a fixed random state\r\n",
    "rs = 15\r\n",
    "\r\n",
    "knnc5 = KNeighborsClassifier(5, n_jobs=-1)\r\n",
    "knnc10 = KNeighborsClassifier(10, n_jobs=-1)\r\n",
    "svml = SVC(kernel=\"linear\", random_state=rs)\r\n",
    "svmr = SVC(kernel=\"rbf\", random_state=rs)\r\n",
    "dtc = DecisionTreeClassifier(max_depth=10, random_state=rs)\r\n",
    "rf = RandomForestClassifier(max_depth=5, n_estimators=10, random_state=rs)\r\n",
    "gnb = GaussianNB()\r\n",
    "\r\n",
    "classifier = [\r\n",
    "    (\"5 Nearest Neighbor\", knnc5),\r\n",
    "    (\"10 Nearest Neighbor\", knnc10),\r\n",
    "    (\"Linear SVM\", svml),\r\n",
    "    (\"RBF SVM\", svmr),\r\n",
    "    (\"Decision Tree\", dtc),\r\n",
    "    (\"Random Forest\", rf),\r\n",
    "    (\"Gaussian Naive Bayes\", gnb)\r\n",
    "]"
   ],
   "outputs": [],
   "metadata": {}
  },
  {
   "cell_type": "markdown",
   "source": [
    "## Methods"
   ],
   "metadata": {}
  },
  {
   "cell_type": "code",
   "execution_count": 4,
   "source": [
    "def evaluateSplits(clf_list = classifier, X=X_scaled, y=y, splits=None):\r\n",
    "    scores = np.zeros((len(splits), len(clf_list)))\r\n",
    "    rep = [None] * len(classifier)\r\n",
    "    for split_idx, (train_index, test_index) in tqdm(enumerate(splits), total=len(splits)):\r\n",
    "        y_train, y_test = y[train_index], y[test_index]\r\n",
    "        X_train, X_test = X[train_index], X[test_index]\r\n",
    "\r\n",
    "        for clf_idx, (name, clf) in enumerate(clf_list):\r\n",
    "            clf.fit(X_train, y_train)\r\n",
    "\r\n",
    "            pred = clf.predict(X_test)\r\n",
    "\r\n",
    "            acc_score = metrics.accuracy_score(pred, y_test)\r\n",
    "\r\n",
    "            scores[split_idx, clf_idx] = acc_score\r\n",
    "    return np.mean(scores, axis=0), rep\r\n",
    "\r\n",
    "def printResults(res, clf_list = classifier):\r\n",
    "    max_acc = 0\r\n",
    "    idx = -1\r\n",
    "    for i in range(len(clf_list)):\r\n",
    "        acc = res[0][i]\r\n",
    "        if acc > max_acc:\r\n",
    "            max_acc = acc\r\n",
    "            idx = i\r\n",
    "        print(clf_list[i][0])\r\n",
    "        print('Mean accuracy:', acc)\r\n",
    "        print('Confusion Matrix:')\r\n",
    "        print(res[1][i])\r\n",
    "        print(\"\\n\")\r\n",
    "    \r\n",
    "    print(\"\\nBest Result:\")\r\n",
    "    print(print(clf_list[i][0]))\r\n",
    "    print('Mean accuracy:', max_acc)"
   ],
   "outputs": [],
   "metadata": {}
  },
  {
   "cell_type": "markdown",
   "source": [
    "### Leave one Group Out"
   ],
   "metadata": {}
  },
  {
   "cell_type": "code",
   "execution_count": 5,
   "source": [
    "logo_splits = list(LeaveOneGroupOut().split(X_scaled,y, groups=df[\"subject\"]))\r\n",
    "\r\n",
    "logo_res = evaluateSplits(splits=logo_splits)"
   ],
   "outputs": [
    {
     "output_type": "stream",
     "name": "stderr",
     "text": [
      "100%|██████████| 56/56 [00:36<00:00,  1.52it/s]\n"
     ]
    }
   ],
   "metadata": {}
  },
  {
   "cell_type": "code",
   "execution_count": 6,
   "source": [
    "printResults(logo_res)"
   ],
   "outputs": [
    {
     "output_type": "stream",
     "name": "stdout",
     "text": [
      "5 Nearest Neighbor\n",
      "Mean accuracy: 0.6284839794841881\n",
      "Confusion Matrix:\n",
      "None\n",
      "\n",
      "\n",
      "10 Nearest Neighbor\n",
      "Mean accuracy: 0.6534577512151951\n",
      "Confusion Matrix:\n",
      "None\n",
      "\n",
      "\n",
      "Linear SVM\n",
      "Mean accuracy: 0.629685235567785\n",
      "Confusion Matrix:\n",
      "None\n",
      "\n",
      "\n",
      "RBF SVM\n",
      "Mean accuracy: 0.6512773613021613\n",
      "Confusion Matrix:\n",
      "None\n",
      "\n",
      "\n",
      "Decision Tree\n",
      "Mean accuracy: 0.5923127475465838\n",
      "Confusion Matrix:\n",
      "None\n",
      "\n",
      "\n",
      "Random Forest\n",
      "Mean accuracy: 0.695439883941277\n",
      "Confusion Matrix:\n",
      "None\n",
      "\n",
      "\n",
      "Gaussian Naive Bayes\n",
      "Mean accuracy: 0.5792206860299193\n",
      "Confusion Matrix:\n",
      "None\n",
      "\n",
      "\n",
      "\n",
      "Best Result:\n",
      "Gaussian Naive Bayes\n",
      "None\n",
      "Mean accuracy: 0.695439883941277\n"
     ]
    }
   ],
   "metadata": {}
  },
  {
   "cell_type": "markdown",
   "source": [
    "### k-fold cross-validation"
   ],
   "metadata": {}
  },
  {
   "cell_type": "code",
   "execution_count": 7,
   "source": [
    "kfold_splits_10 = list(KFold(n_splits=10, shuffle=True, random_state=rs).split(X_scaled, y))\r\n",
    "kfold_splits_20 = list(KFold(n_splits=20, shuffle=True, random_state=rs).split(X_scaled, y))\r\n",
    "\r\n",
    "k10_res = evaluateSplits(splits=kfold_splits_10)\r\n",
    "k20_res = evaluateSplits(splits=kfold_splits_20)"
   ],
   "outputs": [
    {
     "output_type": "stream",
     "name": "stderr",
     "text": [
      "100%|██████████| 10/10 [00:06<00:00,  1.63it/s]\n",
      "100%|██████████| 20/20 [00:12<00:00,  1.58it/s]\n"
     ]
    }
   ],
   "metadata": {}
  },
  {
   "cell_type": "code",
   "execution_count": 8,
   "source": [
    "printResults(k10_res)"
   ],
   "outputs": [
    {
     "output_type": "stream",
     "name": "stdout",
     "text": [
      "5 Nearest Neighbor\n",
      "Mean accuracy: 0.8606885903967887\n",
      "Confusion Matrix:\n",
      "None\n",
      "\n",
      "\n",
      "10 Nearest Neighbor\n",
      "Mean accuracy: 0.8579311409603212\n",
      "Confusion Matrix:\n",
      "None\n",
      "\n",
      "\n",
      "Linear SVM\n",
      "Mean accuracy: 0.7819839431835728\n",
      "Confusion Matrix:\n",
      "None\n",
      "\n",
      "\n",
      "RBF SVM\n",
      "Mean accuracy: 0.8256677474139262\n",
      "Confusion Matrix:\n",
      "None\n",
      "\n",
      "\n",
      "Decision Tree\n",
      "Mean accuracy: 0.8307812258761773\n",
      "Confusion Matrix:\n",
      "None\n",
      "\n",
      "\n",
      "Random Forest\n",
      "Mean accuracy: 0.8441608769492049\n",
      "Confusion Matrix:\n",
      "None\n",
      "\n",
      "\n",
      "Gaussian Naive Bayes\n",
      "Mean accuracy: 0.6851767793731665\n",
      "Confusion Matrix:\n",
      "None\n",
      "\n",
      "\n",
      "\n",
      "Best Result:\n",
      "Gaussian Naive Bayes\n",
      "None\n",
      "Mean accuracy: 0.8606885903967887\n"
     ]
    }
   ],
   "metadata": {}
  },
  {
   "cell_type": "code",
   "execution_count": 9,
   "source": [
    "printResults(k20_res)"
   ],
   "outputs": [
    {
     "output_type": "stream",
     "name": "stdout",
     "text": [
      "5 Nearest Neighbor\n",
      "Mean accuracy: 0.8618879183070867\n",
      "Confusion Matrix:\n",
      "None\n",
      "\n",
      "\n",
      "10 Nearest Neighbor\n",
      "Mean accuracy: 0.8610912893700787\n",
      "Confusion Matrix:\n",
      "None\n",
      "\n",
      "\n",
      "Linear SVM\n",
      "Mean accuracy: 0.7823665108267719\n",
      "Confusion Matrix:\n",
      "None\n",
      "\n",
      "\n",
      "RBF SVM\n",
      "Mean accuracy: 0.8315637303149608\n",
      "Confusion Matrix:\n",
      "None\n",
      "\n",
      "\n",
      "Decision Tree\n",
      "Mean accuracy: 0.8296136811023624\n",
      "Confusion Matrix:\n",
      "None\n",
      "\n",
      "\n",
      "Random Forest\n",
      "Mean accuracy: 0.8484990157480314\n",
      "Confusion Matrix:\n",
      "None\n",
      "\n",
      "\n",
      "Gaussian Naive Bayes\n",
      "Mean accuracy: 0.6859621062992128\n",
      "Confusion Matrix:\n",
      "None\n",
      "\n",
      "\n",
      "\n",
      "Best Result:\n",
      "Gaussian Naive Bayes\n",
      "None\n",
      "Mean accuracy: 0.8618879183070867\n"
     ]
    }
   ],
   "metadata": {}
  },
  {
   "cell_type": "markdown",
   "source": [
    "## Eliminate Features\r\n",
    "\r\n",
    "As the easiest way at the moment to eliminate features is via a RF classifier, it will be uesed here as an example."
   ],
   "metadata": {}
  },
  {
   "cell_type": "code",
   "execution_count": 10,
   "source": [
    "rf = RandomForestClassifier(max_depth=5, n_estimators=10, max_features= 1, random_state=rs)\r\n",
    "rfe = RFE(rf, n_features_to_select=10)\r\n",
    "rfe.fit(X_scaled,y)\r\n",
    "columns = list(zip(rfe.support_, X.columns))\r\n",
    "print(columns)"
   ],
   "outputs": [
    {
     "output_type": "stream",
     "name": "stdout",
     "text": [
      "[(False, 'alpha_min'), (False, 'alpha_max'), (False, 'alpha_mean'), (True, 'alpha_median'), (False, 'alpha_std'), (True, 'alpha_var'), (False, 'beta_min'), (False, 'beta_max'), (False, 'beta_mean'), (False, 'beta_median'), (True, 'beta_std'), (False, 'beta_var'), (True, 'gamma_min'), (False, 'gamma_max'), (False, 'gamma_mean'), (False, 'gamma_median'), (False, 'gamma_std'), (False, 'gamma_var'), (False, 'x_min'), (False, 'x_max'), (False, 'x_mean'), (False, 'x_median'), (False, 'x_std'), (True, 'x_var'), (False, 'y_min'), (True, 'y_max'), (False, 'y_mean'), (True, 'y_median'), (True, 'y_std'), (False, 'y_var'), (True, 'z_min'), (False, 'z_max'), (True, 'z_mean'), (False, 'z_median'), (False, 'z_std'), (False, 'z_var')]\n"
     ]
    }
   ],
   "metadata": {}
  },
  {
   "cell_type": "code",
   "execution_count": 11,
   "source": [
    "removed = [c for b, c in columns if ~b]\r\n",
    "removed"
   ],
   "outputs": [
    {
     "output_type": "execute_result",
     "data": {
      "text/plain": [
       "['alpha_min',\n",
       " 'alpha_max',\n",
       " 'alpha_mean',\n",
       " 'alpha_std',\n",
       " 'beta_min',\n",
       " 'beta_max',\n",
       " 'beta_mean',\n",
       " 'beta_median',\n",
       " 'beta_var',\n",
       " 'gamma_max',\n",
       " 'gamma_mean',\n",
       " 'gamma_median',\n",
       " 'gamma_std',\n",
       " 'gamma_var',\n",
       " 'x_min',\n",
       " 'x_max',\n",
       " 'x_mean',\n",
       " 'x_median',\n",
       " 'x_std',\n",
       " 'y_min',\n",
       " 'y_mean',\n",
       " 'y_var',\n",
       " 'z_max',\n",
       " 'z_median',\n",
       " 'z_std',\n",
       " 'z_var']"
      ]
     },
     "metadata": {},
     "execution_count": 11
    }
   ],
   "metadata": {}
  },
  {
   "cell_type": "code",
   "execution_count": 12,
   "source": [
    "X_red = X.drop(columns=removed)\r\n",
    "X_red_scaled = scaler.fit_transform(X_red)\r\n",
    "X_red.columns"
   ],
   "outputs": [
    {
     "output_type": "execute_result",
     "data": {
      "text/plain": [
       "Index(['alpha_median', 'alpha_var', 'beta_std', 'gamma_min', 'x_var', 'y_max',\n",
       "       'y_median', 'y_std', 'z_min', 'z_mean'],\n",
       "      dtype='object')"
      ]
     },
     "metadata": {},
     "execution_count": 12
    }
   ],
   "metadata": {}
  },
  {
   "cell_type": "code",
   "execution_count": 13,
   "source": [
    "kfold_splits_10_red = list(KFold(n_splits=10, shuffle=True, random_state=rs).split(X_red_scaled, y))\r\n",
    "kfold_splits_20_red = list(KFold(n_splits=20, shuffle=True, random_state=rs).split(X_red_scaled, y))\r\n",
    "\r\n",
    "k10_res_red = evaluateSplits(splits=kfold_splits_10_red, X=X_red_scaled)\r\n",
    "k20_res_red = evaluateSplits(splits=kfold_splits_20_red, X=X_red_scaled)"
   ],
   "outputs": [
    {
     "output_type": "stream",
     "name": "stderr",
     "text": [
      "100%|██████████| 10/10 [00:04<00:00,  2.45it/s]\n",
      "100%|██████████| 20/20 [00:08<00:00,  2.38it/s]\n"
     ]
    }
   ],
   "metadata": {}
  },
  {
   "cell_type": "code",
   "execution_count": 14,
   "source": [
    "printResults(k10_res_red)"
   ],
   "outputs": [
    {
     "output_type": "stream",
     "name": "stdout",
     "text": [
      "5 Nearest Neighbor\n",
      "Mean accuracy: 0.8547892542843911\n",
      "Confusion Matrix:\n",
      "None\n",
      "\n",
      "\n",
      "10 Nearest Neighbor\n",
      "Mean accuracy: 0.8602902578354177\n",
      "Confusion Matrix:\n",
      "None\n",
      "\n",
      "\n",
      "Linear SVM\n",
      "Mean accuracy: 0.7666311563995677\n",
      "Confusion Matrix:\n",
      "None\n",
      "\n",
      "\n",
      "RBF SVM\n",
      "Mean accuracy: 0.844951366373321\n",
      "Confusion Matrix:\n",
      "None\n",
      "\n",
      "\n",
      "Decision Tree\n",
      "Mean accuracy: 0.8299938243013741\n",
      "Confusion Matrix:\n",
      "None\n",
      "\n",
      "\n",
      "Random Forest\n",
      "Mean accuracy: 0.8512444032731203\n",
      "Confusion Matrix:\n",
      "None\n",
      "\n",
      "\n",
      "Gaussian Naive Bayes\n",
      "Mean accuracy: 0.6879326848849775\n",
      "Confusion Matrix:\n",
      "None\n",
      "\n",
      "\n",
      "\n",
      "Best Result:\n",
      "Gaussian Naive Bayes\n",
      "None\n",
      "Mean accuracy: 0.8602902578354177\n"
     ]
    }
   ],
   "metadata": {}
  },
  {
   "cell_type": "code",
   "execution_count": 15,
   "source": [
    "printResults(k20_res_red)"
   ],
   "outputs": [
    {
     "output_type": "stream",
     "name": "stdout",
     "text": [
      "5 Nearest Neighbor\n",
      "Mean accuracy: 0.8543953001968505\n",
      "Confusion Matrix:\n",
      "None\n",
      "\n",
      "\n",
      "10 Nearest Neighbor\n",
      "Mean accuracy: 0.858716781496063\n",
      "Confusion Matrix:\n",
      "None\n",
      "\n",
      "\n",
      "Linear SVM\n",
      "Mean accuracy: 0.7670183316929137\n",
      "Confusion Matrix:\n",
      "None\n",
      "\n",
      "\n",
      "RBF SVM\n",
      "Mean accuracy: 0.8433809055118111\n",
      "Confusion Matrix:\n",
      "None\n",
      "\n",
      "\n",
      "Decision Tree\n",
      "Mean accuracy: 0.8394500492125985\n",
      "Confusion Matrix:\n",
      "None\n",
      "\n",
      "\n",
      "Random Forest\n",
      "Mean accuracy: 0.8441652312992127\n",
      "Confusion Matrix:\n",
      "None\n",
      "\n",
      "\n",
      "Gaussian Naive Bayes\n",
      "Mean accuracy: 0.6898960383858269\n",
      "Confusion Matrix:\n",
      "None\n",
      "\n",
      "\n",
      "\n",
      "Best Result:\n",
      "Gaussian Naive Bayes\n",
      "None\n",
      "Mean accuracy: 0.858716781496063\n"
     ]
    }
   ],
   "metadata": {}
  },
  {
   "cell_type": "markdown",
   "source": [
    "## Bagging"
   ],
   "metadata": {}
  },
  {
   "cell_type": "code",
   "execution_count": 16,
   "source": [
    "bagging_list = [\r\n",
    "    (\"Bagging Gauusian Naive Bayes5\", BaggingClassifier(base_estimator=gnb, n_estimators=5, random_state=rs, n_jobs=-1)),\r\n",
    "    (\"Bagging Gauusian Naive Bayes10\", BaggingClassifier(base_estimator=gnb, n_estimators=10, random_state=rs, n_jobs=-1)),\r\n",
    "    (\"Bagging Gauusian Naive Bayes15\", BaggingClassifier(base_estimator=gnb, n_estimators=15, random_state=rs, n_jobs=-1)),\r\n",
    "    (\"Bagging Gauusian Naive Bayes20\", BaggingClassifier(base_estimator=gnb, n_estimators=20, random_state=rs, n_jobs=-1))\r\n",
    "]\r\n",
    "\r\n",
    "bag_res = evaluateSplits(clf_list=bagging_list, splits=kfold_splits_20)\r\n",
    "bag_red_res = evaluateSplits(clf_list=bagging_list, splits=kfold_splits_20_red, X=X_red_scaled)"
   ],
   "outputs": [
    {
     "output_type": "stream",
     "name": "stderr",
     "text": [
      "100%|██████████| 20/20 [00:32<00:00,  1.64s/it]\n",
      "100%|██████████| 20/20 [00:33<00:00,  1.67s/it]\n"
     ]
    }
   ],
   "metadata": {}
  },
  {
   "cell_type": "code",
   "execution_count": 17,
   "source": [
    "printResults(bag_res, clf_list=bagging_list)"
   ],
   "outputs": [
    {
     "output_type": "stream",
     "name": "stdout",
     "text": [
      "Bagging Gauusian Naive Bayes5\n",
      "Mean accuracy: 0.6891117125984255\n",
      "Confusion Matrix:\n",
      "None\n",
      "\n",
      "\n",
      "Bagging Gauusian Naive Bayes10\n",
      "Mean accuracy: 0.685962106299213\n",
      "Confusion Matrix:\n",
      "None\n",
      "\n",
      "\n",
      "Bagging Gauusian Naive Bayes15\n",
      "Mean accuracy: 0.6867495078740161\n",
      "Confusion Matrix:\n",
      "None\n",
      "\n",
      "\n",
      "Bagging Gauusian Naive Bayes20\n",
      "Mean accuracy: 0.6875369094488193\n",
      "Confusion Matrix:\n",
      "None\n",
      "\n",
      "\n",
      "\n",
      "Best Result:\n",
      "Bagging Gauusian Naive Bayes20\n",
      "None\n",
      "Mean accuracy: 0.6891117125984255\n"
     ]
    }
   ],
   "metadata": {}
  },
  {
   "cell_type": "code",
   "execution_count": 18,
   "source": [
    "printResults(bag_red_res, clf_list=bagging_list)"
   ],
   "outputs": [
    {
     "output_type": "stream",
     "name": "stdout",
     "text": [
      "Bagging Gauusian Naive Bayes5\n",
      "Mean accuracy: 0.6950079970472444\n",
      "Confusion Matrix:\n",
      "None\n",
      "\n",
      "\n",
      "Bagging Gauusian Naive Bayes10\n",
      "Mean accuracy: 0.6930394931102365\n",
      "Confusion Matrix:\n",
      "None\n",
      "\n",
      "\n",
      "Bagging Gauusian Naive Bayes15\n",
      "Mean accuracy: 0.6950079970472444\n",
      "Confusion Matrix:\n",
      "None\n",
      "\n",
      "\n",
      "Bagging Gauusian Naive Bayes20\n",
      "Mean accuracy: 0.6914708415354334\n",
      "Confusion Matrix:\n",
      "None\n",
      "\n",
      "\n",
      "\n",
      "Best Result:\n",
      "Bagging Gauusian Naive Bayes20\n",
      "None\n",
      "Mean accuracy: 0.6950079970472444\n"
     ]
    }
   ],
   "metadata": {}
  },
  {
   "cell_type": "markdown",
   "source": [
    "## not Scaled"
   ],
   "metadata": {}
  },
  {
   "cell_type": "code",
   "execution_count": 19,
   "source": [
    "logo_splits_ns = list(LeaveOneGroupOut().split(X,y, groups=df[\"subject\"]))\r\n",
    "\r\n",
    "logo_res_ns = evaluateSplits(splits=logo_splits_ns)\r\n",
    "\r\n",
    "kfold_splits_10_ns = list(KFold(n_splits=10, shuffle=True, random_state=rs).split(X, y))\r\n",
    "kfold_splits_20_ns = list(KFold(n_splits=20, shuffle=True, random_state=rs).split(X, y))\r\n",
    "\r\n",
    "k10_res_ns = evaluateSplits(splits=kfold_splits_10_ns)\r\n",
    "k20_res_ns = evaluateSplits(splits=kfold_splits_20_ns)"
   ],
   "outputs": [
    {
     "output_type": "stream",
     "name": "stderr",
     "text": [
      "100%|██████████| 56/56 [00:37<00:00,  1.51it/s]\n",
      "100%|██████████| 10/10 [00:06<00:00,  1.64it/s]\n",
      "100%|██████████| 20/20 [00:12<00:00,  1.57it/s]\n"
     ]
    }
   ],
   "metadata": {}
  },
  {
   "cell_type": "code",
   "execution_count": 20,
   "source": [
    "printResults(logo_res_ns)"
   ],
   "outputs": [
    {
     "output_type": "stream",
     "name": "stdout",
     "text": [
      "5 Nearest Neighbor\n",
      "Mean accuracy: 0.6284839794841881\n",
      "Confusion Matrix:\n",
      "None\n",
      "\n",
      "\n",
      "10 Nearest Neighbor\n",
      "Mean accuracy: 0.6534577512151951\n",
      "Confusion Matrix:\n",
      "None\n",
      "\n",
      "\n",
      "Linear SVM\n",
      "Mean accuracy: 0.629685235567785\n",
      "Confusion Matrix:\n",
      "None\n",
      "\n",
      "\n",
      "RBF SVM\n",
      "Mean accuracy: 0.6512773613021613\n",
      "Confusion Matrix:\n",
      "None\n",
      "\n",
      "\n",
      "Decision Tree\n",
      "Mean accuracy: 0.5923127475465838\n",
      "Confusion Matrix:\n",
      "None\n",
      "\n",
      "\n",
      "Random Forest\n",
      "Mean accuracy: 0.695439883941277\n",
      "Confusion Matrix:\n",
      "None\n",
      "\n",
      "\n",
      "Gaussian Naive Bayes\n",
      "Mean accuracy: 0.5792206860299193\n",
      "Confusion Matrix:\n",
      "None\n",
      "\n",
      "\n",
      "\n",
      "Best Result:\n",
      "Gaussian Naive Bayes\n",
      "None\n",
      "Mean accuracy: 0.695439883941277\n"
     ]
    }
   ],
   "metadata": {}
  },
  {
   "cell_type": "code",
   "execution_count": 21,
   "source": [
    "printResults(k10_res_ns)"
   ],
   "outputs": [
    {
     "output_type": "stream",
     "name": "stdout",
     "text": [
      "5 Nearest Neighbor\n",
      "Mean accuracy: 0.8606885903967887\n",
      "Confusion Matrix:\n",
      "None\n",
      "\n",
      "\n",
      "10 Nearest Neighbor\n",
      "Mean accuracy: 0.8579311409603212\n",
      "Confusion Matrix:\n",
      "None\n",
      "\n",
      "\n",
      "Linear SVM\n",
      "Mean accuracy: 0.7819839431835728\n",
      "Confusion Matrix:\n",
      "None\n",
      "\n",
      "\n",
      "RBF SVM\n",
      "Mean accuracy: 0.8256677474139262\n",
      "Confusion Matrix:\n",
      "None\n",
      "\n",
      "\n",
      "Decision Tree\n",
      "Mean accuracy: 0.8307812258761773\n",
      "Confusion Matrix:\n",
      "None\n",
      "\n",
      "\n",
      "Random Forest\n",
      "Mean accuracy: 0.8441608769492049\n",
      "Confusion Matrix:\n",
      "None\n",
      "\n",
      "\n",
      "Gaussian Naive Bayes\n",
      "Mean accuracy: 0.6851767793731665\n",
      "Confusion Matrix:\n",
      "None\n",
      "\n",
      "\n",
      "\n",
      "Best Result:\n",
      "Gaussian Naive Bayes\n",
      "None\n",
      "Mean accuracy: 0.8606885903967887\n"
     ]
    }
   ],
   "metadata": {}
  },
  {
   "cell_type": "code",
   "execution_count": 22,
   "source": [
    "printResults(k20_res_ns)"
   ],
   "outputs": [
    {
     "output_type": "stream",
     "name": "stdout",
     "text": [
      "5 Nearest Neighbor\n",
      "Mean accuracy: 0.8618879183070867\n",
      "Confusion Matrix:\n",
      "None\n",
      "\n",
      "\n",
      "10 Nearest Neighbor\n",
      "Mean accuracy: 0.8610912893700787\n",
      "Confusion Matrix:\n",
      "None\n",
      "\n",
      "\n",
      "Linear SVM\n",
      "Mean accuracy: 0.7823665108267719\n",
      "Confusion Matrix:\n",
      "None\n",
      "\n",
      "\n",
      "RBF SVM\n",
      "Mean accuracy: 0.8315637303149608\n",
      "Confusion Matrix:\n",
      "None\n",
      "\n",
      "\n",
      "Decision Tree\n",
      "Mean accuracy: 0.8296136811023624\n",
      "Confusion Matrix:\n",
      "None\n",
      "\n",
      "\n",
      "Random Forest\n",
      "Mean accuracy: 0.8484990157480314\n",
      "Confusion Matrix:\n",
      "None\n",
      "\n",
      "\n",
      "Gaussian Naive Bayes\n",
      "Mean accuracy: 0.6859621062992128\n",
      "Confusion Matrix:\n",
      "None\n",
      "\n",
      "\n",
      "\n",
      "Best Result:\n",
      "Gaussian Naive Bayes\n",
      "None\n",
      "Mean accuracy: 0.8618879183070867\n"
     ]
    }
   ],
   "metadata": {}
  },
  {
   "cell_type": "markdown",
   "source": [
    "## Export best result\r\n",
    "\r\n",
    "As there is no big difference between scaled and not, the js version uses non scaled data for easier use."
   ],
   "metadata": {}
  },
  {
   "cell_type": "code",
   "execution_count": 27,
   "source": [
    "best_clf = GaussianNB()\r\n",
    "best_clf.fit(X, y)\r\n",
    "\r\n",
    "print(best_clf.classes_)\r\n",
    "\r\n",
    "porter = Porter(best_clf, language='js')\r\n",
    "export = porter.export(embed_data=True)\r\n",
    "f = open(\"naive_bayes_clf.js\", \"w\")\r\n",
    "f.write(export)\r\n",
    "f.close()"
   ],
   "outputs": [
    {
     "output_type": "stream",
     "name": "stdout",
     "text": [
      "['sitting' 'standing' 'walking']\n"
     ]
    }
   ],
   "metadata": {}
  }
 ],
 "metadata": {
  "orig_nbformat": 4,
  "language_info": {
   "name": "python",
   "version": "3.7.9",
   "mimetype": "text/x-python",
   "codemirror_mode": {
    "name": "ipython",
    "version": 3
   },
   "pygments_lexer": "ipython3",
   "nbconvert_exporter": "python",
   "file_extension": ".py"
  },
  "kernelspec": {
   "name": "python3",
   "display_name": "Python 3.7.9 64-bit ('py379': conda)"
  },
  "interpreter": {
   "hash": "fe4bc8355510dca7c970eda7d757f28d8eb6b1b558205348f851a765a46084af"
  }
 },
 "nbformat": 4,
 "nbformat_minor": 2
}